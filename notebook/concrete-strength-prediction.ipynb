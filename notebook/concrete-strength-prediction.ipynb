{
 "cells": [
  {
   "cell_type": "markdown",
   "id": "4d99a062",
   "metadata": {
    "papermill": {
     "duration": 0.004223,
     "end_time": "2025-02-08T06:28:45.366195",
     "exception": false,
     "start_time": "2025-02-08T06:28:45.361972",
     "status": "completed"
    },
    "tags": []
   },
   "source": [
    "# Concrete Strength Prediction\n",
    "\n",
    "Predicting the strength of concrete's compressive strength using Random Forest and XGBoost and taking the weighted average of the predictions."
   ]
  },
  {
   "cell_type": "markdown",
   "id": "7984ca4a",
   "metadata": {
    "papermill": {
     "duration": 0.003125,
     "end_time": "2025-02-08T06:28:45.373213",
     "exception": false,
     "start_time": "2025-02-08T06:28:45.370088",
     "status": "completed"
    },
    "tags": []
   },
   "source": [
    "## 1. Import the Libraries\n",
    "\n",
    "Import the required libraries."
   ]
  },
  {
   "cell_type": "code",
   "execution_count": 1,
   "id": "3f5fd4e6",
   "metadata": {
    "execution": {
     "iopub.execute_input": "2025-02-08T06:28:45.381315Z",
     "iopub.status.busy": "2025-02-08T06:28:45.380916Z",
     "iopub.status.idle": "2025-02-08T06:28:48.649151Z",
     "shell.execute_reply": "2025-02-08T06:28:48.647634Z"
    },
    "papermill": {
     "duration": 3.27469,
     "end_time": "2025-02-08T06:28:48.651254",
     "exception": false,
     "start_time": "2025-02-08T06:28:45.376564",
     "status": "completed"
    },
    "tags": []
   },
   "outputs": [],
   "source": [
    "# Import libraries like scikit-learn and xgboost\n",
    "import numpy as np\n",
    "import pandas as pd\n",
    "import matplotlib.pyplot as plt\n",
    "\n",
    "from sklearn.model_selection import train_test_split\n",
    "from sklearn.ensemble import RandomForestRegressor\n",
    "from sklearn.metrics import mean_squared_error, r2_score\n",
    "\n",
    "import xgboost as xgb"
   ]
  },
  {
   "cell_type": "markdown",
   "id": "dffb4eb8",
   "metadata": {
    "papermill": {
     "duration": 0.003095,
     "end_time": "2025-02-08T06:28:48.658014",
     "exception": false,
     "start_time": "2025-02-08T06:28:48.654919",
     "status": "completed"
    },
    "tags": []
   },
   "source": [
    "## 2. Prepare the Data\n",
    "\n",
    "Load the dataset from Kaggle and convert into numpy array, further splitting for training and testing."
   ]
  },
  {
   "cell_type": "code",
   "execution_count": 2,
   "id": "58e83634",
   "metadata": {
    "execution": {
     "iopub.execute_input": "2025-02-08T06:28:48.665962Z",
     "iopub.status.busy": "2025-02-08T06:28:48.665431Z",
     "iopub.status.idle": "2025-02-08T06:28:48.726144Z",
     "shell.execute_reply": "2025-02-08T06:28:48.725061Z"
    },
    "papermill": {
     "duration": 0.067,
     "end_time": "2025-02-08T06:28:48.728287",
     "exception": false,
     "start_time": "2025-02-08T06:28:48.661287",
     "status": "completed"
    },
    "tags": []
   },
   "outputs": [
    {
     "data": {
      "text/html": [
       "<div>\n",
       "<style scoped>\n",
       "    .dataframe tbody tr th:only-of-type {\n",
       "        vertical-align: middle;\n",
       "    }\n",
       "\n",
       "    .dataframe tbody tr th {\n",
       "        vertical-align: top;\n",
       "    }\n",
       "\n",
       "    .dataframe thead th {\n",
       "        text-align: right;\n",
       "    }\n",
       "</style>\n",
       "<table border=\"1\" class=\"dataframe\">\n",
       "  <thead>\n",
       "    <tr style=\"text-align: right;\">\n",
       "      <th></th>\n",
       "      <th>cement</th>\n",
       "      <th>blast_furnace_slag</th>\n",
       "      <th>fly_ash</th>\n",
       "      <th>water</th>\n",
       "      <th>superplasticizer</th>\n",
       "      <th>coarse_aggregate</th>\n",
       "      <th>fine_aggregate</th>\n",
       "      <th>age</th>\n",
       "      <th>concrete_compressive_strength</th>\n",
       "    </tr>\n",
       "  </thead>\n",
       "  <tbody>\n",
       "    <tr>\n",
       "      <th>0</th>\n",
       "      <td>540.0</td>\n",
       "      <td>0.0</td>\n",
       "      <td>0.0</td>\n",
       "      <td>162.0</td>\n",
       "      <td>2.5</td>\n",
       "      <td>1040.0</td>\n",
       "      <td>676.0</td>\n",
       "      <td>28</td>\n",
       "      <td>79.99</td>\n",
       "    </tr>\n",
       "    <tr>\n",
       "      <th>1</th>\n",
       "      <td>540.0</td>\n",
       "      <td>0.0</td>\n",
       "      <td>0.0</td>\n",
       "      <td>162.0</td>\n",
       "      <td>2.5</td>\n",
       "      <td>1055.0</td>\n",
       "      <td>676.0</td>\n",
       "      <td>28</td>\n",
       "      <td>61.89</td>\n",
       "    </tr>\n",
       "    <tr>\n",
       "      <th>2</th>\n",
       "      <td>332.5</td>\n",
       "      <td>142.5</td>\n",
       "      <td>0.0</td>\n",
       "      <td>228.0</td>\n",
       "      <td>0.0</td>\n",
       "      <td>932.0</td>\n",
       "      <td>594.0</td>\n",
       "      <td>270</td>\n",
       "      <td>40.27</td>\n",
       "    </tr>\n",
       "    <tr>\n",
       "      <th>3</th>\n",
       "      <td>332.5</td>\n",
       "      <td>142.5</td>\n",
       "      <td>0.0</td>\n",
       "      <td>228.0</td>\n",
       "      <td>0.0</td>\n",
       "      <td>932.0</td>\n",
       "      <td>594.0</td>\n",
       "      <td>365</td>\n",
       "      <td>41.05</td>\n",
       "    </tr>\n",
       "    <tr>\n",
       "      <th>4</th>\n",
       "      <td>198.6</td>\n",
       "      <td>132.4</td>\n",
       "      <td>0.0</td>\n",
       "      <td>192.0</td>\n",
       "      <td>0.0</td>\n",
       "      <td>978.4</td>\n",
       "      <td>825.5</td>\n",
       "      <td>360</td>\n",
       "      <td>44.30</td>\n",
       "    </tr>\n",
       "  </tbody>\n",
       "</table>\n",
       "</div>"
      ],
      "text/plain": [
       "   cement  blast_furnace_slag  fly_ash  water  superplasticizer  \\\n",
       "0   540.0                 0.0      0.0  162.0               2.5   \n",
       "1   540.0                 0.0      0.0  162.0               2.5   \n",
       "2   332.5               142.5      0.0  228.0               0.0   \n",
       "3   332.5               142.5      0.0  228.0               0.0   \n",
       "4   198.6               132.4      0.0  192.0               0.0   \n",
       "\n",
       "   coarse_aggregate  fine_aggregate   age  concrete_compressive_strength  \n",
       "0            1040.0            676.0   28                          79.99  \n",
       "1            1055.0            676.0   28                          61.89  \n",
       "2             932.0            594.0  270                          40.27  \n",
       "3             932.0            594.0  365                          41.05  \n",
       "4             978.4            825.5  360                          44.30  "
      ]
     },
     "execution_count": 2,
     "metadata": {},
     "output_type": "execute_result"
    }
   ],
   "source": [
    "# Load the dataset\n",
    "data = pd.read_csv('/kaggle/input/concrete-compressive-strength-data-set/concrete_data.csv')\n",
    "data.head()"
   ]
  },
  {
   "cell_type": "code",
   "execution_count": 3,
   "id": "ee8f8cca",
   "metadata": {
    "execution": {
     "iopub.execute_input": "2025-02-08T06:28:48.741477Z",
     "iopub.status.busy": "2025-02-08T06:28:48.740962Z",
     "iopub.status.idle": "2025-02-08T06:28:48.755670Z",
     "shell.execute_reply": "2025-02-08T06:28:48.754330Z"
    },
    "papermill": {
     "duration": 0.023859,
     "end_time": "2025-02-08T06:28:48.757964",
     "exception": false,
     "start_time": "2025-02-08T06:28:48.734105",
     "status": "completed"
    },
    "tags": []
   },
   "outputs": [],
   "source": [
    "# Split into training and testing\n",
    "x_data = data.drop(columns = ['concrete_compressive_strength'])\n",
    "y_data = data['concrete_compressive_strength']\n",
    "\n",
    "x_train, x_test, y_train, y_test = train_test_split(x_data, y_data, test_size = 0.2)"
   ]
  },
  {
   "cell_type": "code",
   "execution_count": 4,
   "id": "e049f6cb",
   "metadata": {
    "execution": {
     "iopub.execute_input": "2025-02-08T06:28:48.772273Z",
     "iopub.status.busy": "2025-02-08T06:28:48.771703Z",
     "iopub.status.idle": "2025-02-08T06:28:48.777513Z",
     "shell.execute_reply": "2025-02-08T06:28:48.776374Z"
    },
    "papermill": {
     "duration": 0.01544,
     "end_time": "2025-02-08T06:28:48.779083",
     "exception": false,
     "start_time": "2025-02-08T06:28:48.763643",
     "status": "completed"
    },
    "tags": []
   },
   "outputs": [
    {
     "name": "stdout",
     "output_type": "stream",
     "text": [
      "Shape of the training data: (824, 8)\n",
      "Length of the test data: 206\n"
     ]
    }
   ],
   "source": [
    "# Check the shape and length of the data\n",
    "shape = x_train.shape\n",
    "length = len(y_test)\n",
    "\n",
    "print(f\"Shape of the training data: {shape}\")\n",
    "print(f\"Length of the test data: {length}\")"
   ]
  },
  {
   "cell_type": "markdown",
   "id": "d1c33c26",
   "metadata": {
    "papermill": {
     "duration": 0.003485,
     "end_time": "2025-02-08T06:28:48.786419",
     "exception": false,
     "start_time": "2025-02-08T06:28:48.782934",
     "status": "completed"
    },
    "tags": []
   },
   "source": [
    "## 3. Random Forest\n",
    "\n",
    "* **RandomForestRegressor()**: Ensemble learning method using multiple decision trees for regression tasks.\n",
    "\n",
    "* **n_estimators = 100**: Number of decision trees to build in the forest.\n",
    "\n",
    "* **max_depth = 10**: Maximum depth allowed for each decision tree; controls over fitting.\n",
    "\n",
    "* **random_state = 50**: Seed for random number generator; ensures reproducible results.\n",
    "\n",
    "* **fit(x_train, y_train)**: Trains the model using the training dataset.\n",
    "\n",
    "* **predict(x_test)**: Uses the trained model to predict outcomes for new data."
   ]
  },
  {
   "cell_type": "code",
   "execution_count": 5,
   "id": "ea3093cb",
   "metadata": {
    "execution": {
     "iopub.execute_input": "2025-02-08T06:28:48.794834Z",
     "iopub.status.busy": "2025-02-08T06:28:48.794469Z",
     "iopub.status.idle": "2025-02-08T06:28:49.236267Z",
     "shell.execute_reply": "2025-02-08T06:28:49.234895Z"
    },
    "papermill": {
     "duration": 0.44806,
     "end_time": "2025-02-08T06:28:49.238099",
     "exception": false,
     "start_time": "2025-02-08T06:28:48.790039",
     "status": "completed"
    },
    "tags": []
   },
   "outputs": [
    {
     "name": "stdout",
     "output_type": "stream",
     "text": [
      "Mean Squared Error for Random Forest: 28.256079528693423\n",
      "R2 Score for Random Forest: 0.9115206060433415\n"
     ]
    }
   ],
   "source": [
    "rf_regressor = RandomForestRegressor(n_estimators = 100, max_depth = 10, random_state = 50)\n",
    "rf_regressor.fit(x_train, y_train)\n",
    "\n",
    "y_predicted_rf = rf_regressor.predict(x_test)\n",
    "\n",
    "# Mean Squared Error and R2 Score for Random Forest Regressor\n",
    "mse_rf = mean_squared_error(y_test, y_predicted_rf)\n",
    "r2_rf = r2_score(y_test, y_predicted_rf)\n",
    "print(f\"Mean Squared Error for Random Forest: {mse_rf}\")\n",
    "print(f\"R2 Score for Random Forest: {r2_rf}\")"
   ]
  },
  {
   "cell_type": "markdown",
   "id": "7ecc81ba",
   "metadata": {
    "papermill": {
     "duration": 0.003479,
     "end_time": "2025-02-08T06:28:49.245447",
     "exception": false,
     "start_time": "2025-02-08T06:28:49.241968",
     "status": "completed"
    },
    "tags": []
   },
   "source": [
    "## 4. XGBoost\n",
    "\n",
    "* **XGBRegressor()**: XGBoost's implementation for regression using gradient boosting.\n",
    "\n",
    "* **n_estimators = 100**: Number of boosting rounds or trees to build.\n",
    "\n",
    "* **learning_rate = 0.1**: Controls the step size for weight updates."
   ]
  },
  {
   "cell_type": "code",
   "execution_count": 6,
   "id": "9c7e4c4a",
   "metadata": {
    "execution": {
     "iopub.execute_input": "2025-02-08T06:28:49.254207Z",
     "iopub.status.busy": "2025-02-08T06:28:49.253791Z",
     "iopub.status.idle": "2025-02-08T06:28:49.395527Z",
     "shell.execute_reply": "2025-02-08T06:28:49.393075Z"
    },
    "papermill": {
     "duration": 0.147894,
     "end_time": "2025-02-08T06:28:49.397153",
     "exception": false,
     "start_time": "2025-02-08T06:28:49.249259",
     "status": "completed"
    },
    "tags": []
   },
   "outputs": [
    {
     "name": "stdout",
     "output_type": "stream",
     "text": [
      "Mean Squared Error for XGBoost: 23.555267449721466\n",
      "R2 Score for XGBoost: 0.9262404472523533\n"
     ]
    }
   ],
   "source": [
    "xgb_regressor = xgb.XGBRegressor(n_estimators = 100, learning_rate = 0.1, max_depth = 5, random_state = 50)\n",
    "xgb_regressor.fit(x_train, y_train)\n",
    "\n",
    "y_predicted_xgb = xgb_regressor.predict(x_test)\n",
    "\n",
    "# Mean Squared Error and R2 Score for XGBoost Regressor\n",
    "mse_xgb = mean_squared_error(y_test, y_predicted_xgb)\n",
    "r2_xgb = r2_score(y_test, y_predicted_xgb)\n",
    "print(f\"Mean Squared Error for XGBoost: {mse_xgb}\")\n",
    "print(f\"R2 Score for XGBoost: {r2_xgb}\")"
   ]
  },
  {
   "cell_type": "markdown",
   "id": "a3da296e",
   "metadata": {
    "papermill": {
     "duration": 0.003418,
     "end_time": "2025-02-08T06:28:49.404442",
     "exception": false,
     "start_time": "2025-02-08T06:28:49.401024",
     "status": "completed"
    },
    "tags": []
   },
   "source": [
    "## 5. Weighted Average\n",
    "\n",
    "Set weights for each ensemble to balance them for better prediction."
   ]
  },
  {
   "cell_type": "code",
   "execution_count": 7,
   "id": "d1dfed56",
   "metadata": {
    "execution": {
     "iopub.execute_input": "2025-02-08T06:28:49.413221Z",
     "iopub.status.busy": "2025-02-08T06:28:49.412854Z",
     "iopub.status.idle": "2025-02-08T06:28:49.417351Z",
     "shell.execute_reply": "2025-02-08T06:28:49.416358Z"
    },
    "papermill": {
     "duration": 0.010856,
     "end_time": "2025-02-08T06:28:49.418964",
     "exception": false,
     "start_time": "2025-02-08T06:28:49.408108",
     "status": "completed"
    },
    "tags": []
   },
   "outputs": [],
   "source": [
    "# Define weight of each ensemble\n",
    "w_rf = 0.1\n",
    "w_xgb = 0.9\n",
    "\n",
    "# Final predicted value\n",
    "y_predicted = (w_rf * y_predicted_rf) + (w_xgb * y_predicted_xgb)"
   ]
  },
  {
   "cell_type": "markdown",
   "id": "75372f70",
   "metadata": {
    "papermill": {
     "duration": 0.00353,
     "end_time": "2025-02-08T06:28:49.426501",
     "exception": false,
     "start_time": "2025-02-08T06:28:49.422971",
     "status": "completed"
    },
    "tags": []
   },
   "source": [
    "## 6. Evaluate the model\n",
    "\n",
    "* **mse_final = mean_squared_error(y_test, y_predicted)**: Measures the average squared difference between actual and predicted values; lower values indicate better performance.\n",
    "\n",
    "* **r2_score(y_test, y_predicted)**: Indicates the proportion of variance explained by the model."
   ]
  },
  {
   "cell_type": "code",
   "execution_count": 8,
   "id": "7f7fb04f",
   "metadata": {
    "execution": {
     "iopub.execute_input": "2025-02-08T06:28:49.435202Z",
     "iopub.status.busy": "2025-02-08T06:28:49.434837Z",
     "iopub.status.idle": "2025-02-08T06:28:49.441888Z",
     "shell.execute_reply": "2025-02-08T06:28:49.440997Z"
    },
    "papermill": {
     "duration": 0.013196,
     "end_time": "2025-02-08T06:28:49.443421",
     "exception": false,
     "start_time": "2025-02-08T06:28:49.430225",
     "status": "completed"
    },
    "tags": []
   },
   "outputs": [
    {
     "name": "stdout",
     "output_type": "stream",
     "text": [
      "Mean Squared Error: 23.347037931766632\n",
      "R2 Score: 0.9268924846849994\n"
     ]
    }
   ],
   "source": [
    "mse_final = mean_squared_error(y_test, y_predicted)\n",
    "r2_final = r2_score(y_test, y_predicted)\n",
    "\n",
    "print(f\"Mean Squared Error: {mse_final}\")\n",
    "print(f\"R2 Score: {r2_final}\")"
   ]
  }
 ],
 "metadata": {
  "kaggle": {
   "accelerator": "none",
   "dataSources": [
    {
     "datasetId": 2330,
     "sourceId": 3928,
     "sourceType": "datasetVersion"
    }
   ],
   "dockerImageVersionId": 30839,
   "isGpuEnabled": false,
   "isInternetEnabled": true,
   "language": "python",
   "sourceType": "notebook"
  },
  "kernelspec": {
   "display_name": "Python 3",
   "language": "python",
   "name": "python3"
  },
  "language_info": {
   "codemirror_mode": {
    "name": "ipython",
    "version": 3
   },
   "file_extension": ".py",
   "mimetype": "text/x-python",
   "name": "python",
   "nbconvert_exporter": "python",
   "pygments_lexer": "ipython3",
   "version": "3.10.12"
  },
  "papermill": {
   "default_parameters": {},
   "duration": 7.804535,
   "end_time": "2025-02-08T06:28:50.168070",
   "environment_variables": {},
   "exception": null,
   "input_path": "__notebook__.ipynb",
   "output_path": "__notebook__.ipynb",
   "parameters": {},
   "start_time": "2025-02-08T06:28:42.363535",
   "version": "2.6.0"
  }
 },
 "nbformat": 4,
 "nbformat_minor": 5
}
