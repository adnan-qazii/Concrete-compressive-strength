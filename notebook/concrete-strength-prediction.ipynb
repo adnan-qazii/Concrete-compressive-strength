{
 "cells": [
  {
   "cell_type": "markdown",
   "id": "4d99a062",
   "metadata": {
    "papermill": {
     "duration": 0.004223,
     "end_time": "2025-02-08T06:28:45.366195",
     "exception": false,
     "start_time": "2025-02-08T06:28:45.361972",
     "status": "completed"
    },
    "tags": []
   },
   "source": [
    "# Concrete Strength Prediction\n",
    "\n",
    "Predicting the strength of concrete's compressive strength using Random Forest and XGBoost and taking the weighted average of the predictions."
   ]
  },
  {
   "cell_type": "markdown",
   "id": "7984ca4a",
   "metadata": {
    "papermill": {
     "duration": 0.003125,
     "end_time": "2025-02-08T06:28:45.373213",
     "exception": false,
     "start_time": "2025-02-08T06:28:45.370088",
     "status": "completed"
    },
    "tags": []
   },
   "source": [
    "## 1. Import the Libraries\n",
    "\n",
    "Import the required libraries."
   ]
  },
  {
   "cell_type": "code",
   "execution_count": 9,
   "id": "3f5fd4e6",
   "metadata": {
    "execution": {
     "iopub.execute_input": "2025-02-08T06:28:45.381315Z",
     "iopub.status.busy": "2025-02-08T06:28:45.380916Z",
     "iopub.status.idle": "2025-02-08T06:28:48.649151Z",
     "shell.execute_reply": "2025-02-08T06:28:48.647634Z"
    },
    "papermill": {
     "duration": 3.27469,
     "end_time": "2025-02-08T06:28:48.651254",
     "exception": false,
     "start_time": "2025-02-08T06:28:45.376564",
     "status": "completed"
    },
    "tags": []
   },
   "outputs": [],
   "source": [
    "# Import libraries like scikit-learn and xgboost\n",
    "import numpy as np\n",
    "import pandas as pd\n",
    "from sklearn.model_selection import train_test_split\n",
    "from sklearn.ensemble import RandomForestRegressor\n",
    "from sklearn.metrics import mean_squared_error, r2_score\n",
    "\n",
    "import xgboost as xgb"
   ]
  },
  {
   "cell_type": "markdown",
   "id": "dffb4eb8",
   "metadata": {
    "papermill": {
     "duration": 0.003095,
     "end_time": "2025-02-08T06:28:48.658014",
     "exception": false,
     "start_time": "2025-02-08T06:28:48.654919",
     "status": "completed"
    },
    "tags": []
   },
   "source": [
    "## 2. Prepare the Data\n",
    "\n",
    "Load the dataset from Kaggle and convert into numpy array, further splitting for training and testing."
   ]
  },
  {
   "cell_type": "code",
   "execution_count": 10,
   "id": "58e83634",
   "metadata": {
    "execution": {
     "iopub.execute_input": "2025-02-08T06:28:48.665962Z",
     "iopub.status.busy": "2025-02-08T06:28:48.665431Z",
     "iopub.status.idle": "2025-02-08T06:28:48.726144Z",
     "shell.execute_reply": "2025-02-08T06:28:48.725061Z"
    },
    "papermill": {
     "duration": 0.067,
     "end_time": "2025-02-08T06:28:48.728287",
     "exception": false,
     "start_time": "2025-02-08T06:28:48.661287",
     "status": "completed"
    },
    "tags": []
   },
   "outputs": [
    {
     "name": "stderr",
     "output_type": "stream",
     "text": [
      "<>:2: SyntaxWarning: invalid escape sequence '\\P'\n",
      "<>:2: SyntaxWarning: invalid escape sequence '\\P'\n",
      "C:\\Users\\Adnan\\AppData\\Local\\Temp\\ipykernel_4752\\2874582568.py:2: SyntaxWarning: invalid escape sequence '\\P'\n",
      "  data = pd.read_csv('D:\\PROJECTS\\Concrete-compressive-strength\\data\\raw\\concrete_data.csv')\n"
     ]
    },
    {
     "ename": "OSError",
     "evalue": "[Errno 22] Invalid argument: 'D:\\\\PROJECTS\\\\Concrete-compressive-strength\\\\data\\raw\\\\concrete_data.csv'",
     "output_type": "error",
     "traceback": [
      "\u001b[31m---------------------------------------------------------------------------\u001b[39m",
      "\u001b[31mOSError\u001b[39m                                   Traceback (most recent call last)",
      "\u001b[36mCell\u001b[39m\u001b[36m \u001b[39m\u001b[32mIn[10]\u001b[39m\u001b[32m, line 2\u001b[39m\n\u001b[32m      1\u001b[39m \u001b[38;5;66;03m# Load the dataset\u001b[39;00m\n\u001b[32m----> \u001b[39m\u001b[32m2\u001b[39m data = \u001b[43mpd\u001b[49m\u001b[43m.\u001b[49m\u001b[43mread_csv\u001b[49m\u001b[43m(\u001b[49m\u001b[33;43m'\u001b[39;49m\u001b[33;43mD:\u001b[39;49m\u001b[33;43m\\\u001b[39;49m\u001b[33;43mPROJECTS\u001b[39;49m\u001b[33;43m\\\u001b[39;49m\u001b[33;43mConcrete-compressive-strength\u001b[39;49m\u001b[33;43m\\\u001b[39;49m\u001b[33;43mdata\u001b[39;49m\u001b[38;5;130;43;01m\\r\u001b[39;49;00m\u001b[33;43maw\u001b[39;49m\u001b[33;43m\\\u001b[39;49m\u001b[33;43mconcrete_data.csv\u001b[39;49m\u001b[33;43m'\u001b[39;49m\u001b[43m)\u001b[49m\n\u001b[32m      3\u001b[39m data.head()\n",
      "\u001b[36mFile \u001b[39m\u001b[32md:\\PROJECTS\\Concrete-compressive-strength\\vir-env\\Lib\\site-packages\\pandas\\io\\parsers\\readers.py:1026\u001b[39m, in \u001b[36mread_csv\u001b[39m\u001b[34m(filepath_or_buffer, sep, delimiter, header, names, index_col, usecols, dtype, engine, converters, true_values, false_values, skipinitialspace, skiprows, skipfooter, nrows, na_values, keep_default_na, na_filter, verbose, skip_blank_lines, parse_dates, infer_datetime_format, keep_date_col, date_parser, date_format, dayfirst, cache_dates, iterator, chunksize, compression, thousands, decimal, lineterminator, quotechar, quoting, doublequote, escapechar, comment, encoding, encoding_errors, dialect, on_bad_lines, delim_whitespace, low_memory, memory_map, float_precision, storage_options, dtype_backend)\u001b[39m\n\u001b[32m   1013\u001b[39m kwds_defaults = _refine_defaults_read(\n\u001b[32m   1014\u001b[39m     dialect,\n\u001b[32m   1015\u001b[39m     delimiter,\n\u001b[32m   (...)\u001b[39m\u001b[32m   1022\u001b[39m     dtype_backend=dtype_backend,\n\u001b[32m   1023\u001b[39m )\n\u001b[32m   1024\u001b[39m kwds.update(kwds_defaults)\n\u001b[32m-> \u001b[39m\u001b[32m1026\u001b[39m \u001b[38;5;28;01mreturn\u001b[39;00m \u001b[43m_read\u001b[49m\u001b[43m(\u001b[49m\u001b[43mfilepath_or_buffer\u001b[49m\u001b[43m,\u001b[49m\u001b[43m \u001b[49m\u001b[43mkwds\u001b[49m\u001b[43m)\u001b[49m\n",
      "\u001b[36mFile \u001b[39m\u001b[32md:\\PROJECTS\\Concrete-compressive-strength\\vir-env\\Lib\\site-packages\\pandas\\io\\parsers\\readers.py:620\u001b[39m, in \u001b[36m_read\u001b[39m\u001b[34m(filepath_or_buffer, kwds)\u001b[39m\n\u001b[32m    617\u001b[39m _validate_names(kwds.get(\u001b[33m\"\u001b[39m\u001b[33mnames\u001b[39m\u001b[33m\"\u001b[39m, \u001b[38;5;28;01mNone\u001b[39;00m))\n\u001b[32m    619\u001b[39m \u001b[38;5;66;03m# Create the parser.\u001b[39;00m\n\u001b[32m--> \u001b[39m\u001b[32m620\u001b[39m parser = \u001b[43mTextFileReader\u001b[49m\u001b[43m(\u001b[49m\u001b[43mfilepath_or_buffer\u001b[49m\u001b[43m,\u001b[49m\u001b[43m \u001b[49m\u001b[43m*\u001b[49m\u001b[43m*\u001b[49m\u001b[43mkwds\u001b[49m\u001b[43m)\u001b[49m\n\u001b[32m    622\u001b[39m \u001b[38;5;28;01mif\u001b[39;00m chunksize \u001b[38;5;129;01mor\u001b[39;00m iterator:\n\u001b[32m    623\u001b[39m     \u001b[38;5;28;01mreturn\u001b[39;00m parser\n",
      "\u001b[36mFile \u001b[39m\u001b[32md:\\PROJECTS\\Concrete-compressive-strength\\vir-env\\Lib\\site-packages\\pandas\\io\\parsers\\readers.py:1620\u001b[39m, in \u001b[36mTextFileReader.__init__\u001b[39m\u001b[34m(self, f, engine, **kwds)\u001b[39m\n\u001b[32m   1617\u001b[39m     \u001b[38;5;28mself\u001b[39m.options[\u001b[33m\"\u001b[39m\u001b[33mhas_index_names\u001b[39m\u001b[33m\"\u001b[39m] = kwds[\u001b[33m\"\u001b[39m\u001b[33mhas_index_names\u001b[39m\u001b[33m\"\u001b[39m]\n\u001b[32m   1619\u001b[39m \u001b[38;5;28mself\u001b[39m.handles: IOHandles | \u001b[38;5;28;01mNone\u001b[39;00m = \u001b[38;5;28;01mNone\u001b[39;00m\n\u001b[32m-> \u001b[39m\u001b[32m1620\u001b[39m \u001b[38;5;28mself\u001b[39m._engine = \u001b[38;5;28;43mself\u001b[39;49m\u001b[43m.\u001b[49m\u001b[43m_make_engine\u001b[49m\u001b[43m(\u001b[49m\u001b[43mf\u001b[49m\u001b[43m,\u001b[49m\u001b[43m \u001b[49m\u001b[38;5;28;43mself\u001b[39;49m\u001b[43m.\u001b[49m\u001b[43mengine\u001b[49m\u001b[43m)\u001b[49m\n",
      "\u001b[36mFile \u001b[39m\u001b[32md:\\PROJECTS\\Concrete-compressive-strength\\vir-env\\Lib\\site-packages\\pandas\\io\\parsers\\readers.py:1880\u001b[39m, in \u001b[36mTextFileReader._make_engine\u001b[39m\u001b[34m(self, f, engine)\u001b[39m\n\u001b[32m   1878\u001b[39m     \u001b[38;5;28;01mif\u001b[39;00m \u001b[33m\"\u001b[39m\u001b[33mb\u001b[39m\u001b[33m\"\u001b[39m \u001b[38;5;129;01mnot\u001b[39;00m \u001b[38;5;129;01min\u001b[39;00m mode:\n\u001b[32m   1879\u001b[39m         mode += \u001b[33m\"\u001b[39m\u001b[33mb\u001b[39m\u001b[33m\"\u001b[39m\n\u001b[32m-> \u001b[39m\u001b[32m1880\u001b[39m \u001b[38;5;28mself\u001b[39m.handles = \u001b[43mget_handle\u001b[49m\u001b[43m(\u001b[49m\n\u001b[32m   1881\u001b[39m \u001b[43m    \u001b[49m\u001b[43mf\u001b[49m\u001b[43m,\u001b[49m\n\u001b[32m   1882\u001b[39m \u001b[43m    \u001b[49m\u001b[43mmode\u001b[49m\u001b[43m,\u001b[49m\n\u001b[32m   1883\u001b[39m \u001b[43m    \u001b[49m\u001b[43mencoding\u001b[49m\u001b[43m=\u001b[49m\u001b[38;5;28;43mself\u001b[39;49m\u001b[43m.\u001b[49m\u001b[43moptions\u001b[49m\u001b[43m.\u001b[49m\u001b[43mget\u001b[49m\u001b[43m(\u001b[49m\u001b[33;43m\"\u001b[39;49m\u001b[33;43mencoding\u001b[39;49m\u001b[33;43m\"\u001b[39;49m\u001b[43m,\u001b[49m\u001b[43m \u001b[49m\u001b[38;5;28;43;01mNone\u001b[39;49;00m\u001b[43m)\u001b[49m\u001b[43m,\u001b[49m\n\u001b[32m   1884\u001b[39m \u001b[43m    \u001b[49m\u001b[43mcompression\u001b[49m\u001b[43m=\u001b[49m\u001b[38;5;28;43mself\u001b[39;49m\u001b[43m.\u001b[49m\u001b[43moptions\u001b[49m\u001b[43m.\u001b[49m\u001b[43mget\u001b[49m\u001b[43m(\u001b[49m\u001b[33;43m\"\u001b[39;49m\u001b[33;43mcompression\u001b[39;49m\u001b[33;43m\"\u001b[39;49m\u001b[43m,\u001b[49m\u001b[43m \u001b[49m\u001b[38;5;28;43;01mNone\u001b[39;49;00m\u001b[43m)\u001b[49m\u001b[43m,\u001b[49m\n\u001b[32m   1885\u001b[39m \u001b[43m    \u001b[49m\u001b[43mmemory_map\u001b[49m\u001b[43m=\u001b[49m\u001b[38;5;28;43mself\u001b[39;49m\u001b[43m.\u001b[49m\u001b[43moptions\u001b[49m\u001b[43m.\u001b[49m\u001b[43mget\u001b[49m\u001b[43m(\u001b[49m\u001b[33;43m\"\u001b[39;49m\u001b[33;43mmemory_map\u001b[39;49m\u001b[33;43m\"\u001b[39;49m\u001b[43m,\u001b[49m\u001b[43m \u001b[49m\u001b[38;5;28;43;01mFalse\u001b[39;49;00m\u001b[43m)\u001b[49m\u001b[43m,\u001b[49m\n\u001b[32m   1886\u001b[39m \u001b[43m    \u001b[49m\u001b[43mis_text\u001b[49m\u001b[43m=\u001b[49m\u001b[43mis_text\u001b[49m\u001b[43m,\u001b[49m\n\u001b[32m   1887\u001b[39m \u001b[43m    \u001b[49m\u001b[43merrors\u001b[49m\u001b[43m=\u001b[49m\u001b[38;5;28;43mself\u001b[39;49m\u001b[43m.\u001b[49m\u001b[43moptions\u001b[49m\u001b[43m.\u001b[49m\u001b[43mget\u001b[49m\u001b[43m(\u001b[49m\u001b[33;43m\"\u001b[39;49m\u001b[33;43mencoding_errors\u001b[39;49m\u001b[33;43m\"\u001b[39;49m\u001b[43m,\u001b[49m\u001b[43m \u001b[49m\u001b[33;43m\"\u001b[39;49m\u001b[33;43mstrict\u001b[39;49m\u001b[33;43m\"\u001b[39;49m\u001b[43m)\u001b[49m\u001b[43m,\u001b[49m\n\u001b[32m   1888\u001b[39m \u001b[43m    \u001b[49m\u001b[43mstorage_options\u001b[49m\u001b[43m=\u001b[49m\u001b[38;5;28;43mself\u001b[39;49m\u001b[43m.\u001b[49m\u001b[43moptions\u001b[49m\u001b[43m.\u001b[49m\u001b[43mget\u001b[49m\u001b[43m(\u001b[49m\u001b[33;43m\"\u001b[39;49m\u001b[33;43mstorage_options\u001b[39;49m\u001b[33;43m\"\u001b[39;49m\u001b[43m,\u001b[49m\u001b[43m \u001b[49m\u001b[38;5;28;43;01mNone\u001b[39;49;00m\u001b[43m)\u001b[49m\u001b[43m,\u001b[49m\n\u001b[32m   1889\u001b[39m \u001b[43m\u001b[49m\u001b[43m)\u001b[49m\n\u001b[32m   1890\u001b[39m \u001b[38;5;28;01massert\u001b[39;00m \u001b[38;5;28mself\u001b[39m.handles \u001b[38;5;129;01mis\u001b[39;00m \u001b[38;5;129;01mnot\u001b[39;00m \u001b[38;5;28;01mNone\u001b[39;00m\n\u001b[32m   1891\u001b[39m f = \u001b[38;5;28mself\u001b[39m.handles.handle\n",
      "\u001b[36mFile \u001b[39m\u001b[32md:\\PROJECTS\\Concrete-compressive-strength\\vir-env\\Lib\\site-packages\\pandas\\io\\common.py:873\u001b[39m, in \u001b[36mget_handle\u001b[39m\u001b[34m(path_or_buf, mode, encoding, compression, memory_map, is_text, errors, storage_options)\u001b[39m\n\u001b[32m    868\u001b[39m \u001b[38;5;28;01melif\u001b[39;00m \u001b[38;5;28misinstance\u001b[39m(handle, \u001b[38;5;28mstr\u001b[39m):\n\u001b[32m    869\u001b[39m     \u001b[38;5;66;03m# Check whether the filename is to be opened in binary mode.\u001b[39;00m\n\u001b[32m    870\u001b[39m     \u001b[38;5;66;03m# Binary mode does not support 'encoding' and 'newline'.\u001b[39;00m\n\u001b[32m    871\u001b[39m     \u001b[38;5;28;01mif\u001b[39;00m ioargs.encoding \u001b[38;5;129;01mand\u001b[39;00m \u001b[33m\"\u001b[39m\u001b[33mb\u001b[39m\u001b[33m\"\u001b[39m \u001b[38;5;129;01mnot\u001b[39;00m \u001b[38;5;129;01min\u001b[39;00m ioargs.mode:\n\u001b[32m    872\u001b[39m         \u001b[38;5;66;03m# Encoding\u001b[39;00m\n\u001b[32m--> \u001b[39m\u001b[32m873\u001b[39m         handle = \u001b[38;5;28;43mopen\u001b[39;49m\u001b[43m(\u001b[49m\n\u001b[32m    874\u001b[39m \u001b[43m            \u001b[49m\u001b[43mhandle\u001b[49m\u001b[43m,\u001b[49m\n\u001b[32m    875\u001b[39m \u001b[43m            \u001b[49m\u001b[43mioargs\u001b[49m\u001b[43m.\u001b[49m\u001b[43mmode\u001b[49m\u001b[43m,\u001b[49m\n\u001b[32m    876\u001b[39m \u001b[43m            \u001b[49m\u001b[43mencoding\u001b[49m\u001b[43m=\u001b[49m\u001b[43mioargs\u001b[49m\u001b[43m.\u001b[49m\u001b[43mencoding\u001b[49m\u001b[43m,\u001b[49m\n\u001b[32m    877\u001b[39m \u001b[43m            \u001b[49m\u001b[43merrors\u001b[49m\u001b[43m=\u001b[49m\u001b[43merrors\u001b[49m\u001b[43m,\u001b[49m\n\u001b[32m    878\u001b[39m \u001b[43m            \u001b[49m\u001b[43mnewline\u001b[49m\u001b[43m=\u001b[49m\u001b[33;43m\"\u001b[39;49m\u001b[33;43m\"\u001b[39;49m\u001b[43m,\u001b[49m\n\u001b[32m    879\u001b[39m \u001b[43m        \u001b[49m\u001b[43m)\u001b[49m\n\u001b[32m    880\u001b[39m     \u001b[38;5;28;01melse\u001b[39;00m:\n\u001b[32m    881\u001b[39m         \u001b[38;5;66;03m# Binary mode\u001b[39;00m\n\u001b[32m    882\u001b[39m         handle = \u001b[38;5;28mopen\u001b[39m(handle, ioargs.mode)\n",
      "\u001b[31mOSError\u001b[39m: [Errno 22] Invalid argument: 'D:\\\\PROJECTS\\\\Concrete-compressive-strength\\\\data\\raw\\\\concrete_data.csv'"
     ]
    }
   ],
   "source": [
    "# Load the dataset\n",
    "data = pd.read_csv('D:\\PROJECTS\\Concrete-compressive-strength\\data\\raw\\concrete_data.csv')\n",
    "data.head()"
   ]
  },
  {
   "cell_type": "code",
   "execution_count": null,
   "id": "ee8f8cca",
   "metadata": {
    "execution": {
     "iopub.execute_input": "2025-02-08T06:28:48.741477Z",
     "iopub.status.busy": "2025-02-08T06:28:48.740962Z",
     "iopub.status.idle": "2025-02-08T06:28:48.755670Z",
     "shell.execute_reply": "2025-02-08T06:28:48.754330Z"
    },
    "papermill": {
     "duration": 0.023859,
     "end_time": "2025-02-08T06:28:48.757964",
     "exception": false,
     "start_time": "2025-02-08T06:28:48.734105",
     "status": "completed"
    },
    "tags": []
   },
   "outputs": [],
   "source": [
    "# Split into training and testing\n",
    "x_data = data.drop(columns = ['concrete_compressive_strength'])\n",
    "y_data = data['concrete_compressive_strength']\n",
    "\n",
    "x_train, x_test, y_train, y_test = train_test_split(x_data, y_data, test_size = 0.2)"
   ]
  },
  {
   "cell_type": "code",
   "execution_count": null,
   "id": "e049f6cb",
   "metadata": {
    "execution": {
     "iopub.execute_input": "2025-02-08T06:28:48.772273Z",
     "iopub.status.busy": "2025-02-08T06:28:48.771703Z",
     "iopub.status.idle": "2025-02-08T06:28:48.777513Z",
     "shell.execute_reply": "2025-02-08T06:28:48.776374Z"
    },
    "papermill": {
     "duration": 0.01544,
     "end_time": "2025-02-08T06:28:48.779083",
     "exception": false,
     "start_time": "2025-02-08T06:28:48.763643",
     "status": "completed"
    },
    "tags": []
   },
   "outputs": [
    {
     "name": "stdout",
     "output_type": "stream",
     "text": [
      "Shape of the training data: (824, 8)\n",
      "Length of the test data: 206\n"
     ]
    }
   ],
   "source": [
    "# Check the shape and length of the data\n",
    "shape = x_train.shape\n",
    "length = len(y_test)\n",
    "\n",
    "print(f\"Shape of the training data: {shape}\")\n",
    "print(f\"Length of the test data: {length}\")"
   ]
  },
  {
   "cell_type": "markdown",
   "id": "7ecc81ba",
   "metadata": {
    "papermill": {
     "duration": 0.003479,
     "end_time": "2025-02-08T06:28:49.245447",
     "exception": false,
     "start_time": "2025-02-08T06:28:49.241968",
     "status": "completed"
    },
    "tags": []
   },
   "source": [
    "## 3. XGBoost\n",
    "\n",
    "* **XGBRegressor()**: XGBoost's implementation for regression using gradient boosting.\n",
    "\n",
    "* **n_estimators = 100**: Number of boosting rounds or trees to build.\n",
    "\n",
    "* **learning_rate = 0.1**: Controls the step size for weight updates."
   ]
  },
  {
   "cell_type": "code",
   "execution_count": null,
   "id": "9c7e4c4a",
   "metadata": {
    "execution": {
     "iopub.execute_input": "2025-02-08T06:28:49.254207Z",
     "iopub.status.busy": "2025-02-08T06:28:49.253791Z",
     "iopub.status.idle": "2025-02-08T06:28:49.395527Z",
     "shell.execute_reply": "2025-02-08T06:28:49.393075Z"
    },
    "papermill": {
     "duration": 0.147894,
     "end_time": "2025-02-08T06:28:49.397153",
     "exception": false,
     "start_time": "2025-02-08T06:28:49.249259",
     "status": "completed"
    },
    "tags": []
   },
   "outputs": [
    {
     "name": "stdout",
     "output_type": "stream",
     "text": [
      "Mean Squared Error for XGBoost: 18.90292315579263\n",
      "R2 Score for XGBoost: 0.9326625197968461\n"
     ]
    }
   ],
   "source": [
    "xgb_regressor = xgb.XGBRegressor(n_estimators = 10000, learning_rate = 0.1, max_depth = 5, random_state = 2)\n",
    "xgb_regressor.fit(x_train, y_train)\n",
    "\n",
    "y_predicted_xgb = xgb_regressor.predict(x_test)\n",
    "\n",
    "\n",
    "mse_xgb = mean_squared_error(y_test, y_predicted_xgb)\n",
    "r2_xgb = r2_score(y_test, y_predicted_xgb)\n",
    "print(f\"Mean Squared Error for XGBoost: {mse_xgb}\")\n",
    "print(f\"R2 Score for XGBoost: {r2_xgb}\")"
   ]
  },
  {
   "cell_type": "markdown",
   "id": "c482f497",
   "metadata": {},
   "source": [
    "# 4. Comprehensive Model Training Pipeline\n",
    "\n",
    "Training multiple machine learning models for concrete strength prediction and comparing their performance."
   ]
  },
  {
   "cell_type": "code",
   "execution_count": 16,
   "id": "53022b4d",
   "metadata": {},
   "outputs": [],
   "source": [
    "# Import additional libraries for comprehensive model training\n",
    "import os\n",
    "import warnings\n",
    "warnings.filterwarnings('ignore')\n",
    "\n",
    "# Additional ML algorithms\n",
    "from sklearn.linear_model import LinearRegression\n",
    "from sklearn.preprocessing import PolynomialFeatures\n",
    "from sklearn.tree import DecisionTreeRegressor\n",
    "from sklearn.ensemble import AdaBoostRegressor, ExtraTreesRegressor\n",
    "from sklearn.neighbors import KNeighborsRegressor\n",
    "\n",
    "# Metrics for comprehensive evaluation\n",
    "from sklearn.metrics import mean_absolute_error, explained_variance_score\n",
    "from sklearn.model_selection import cross_val_score\n",
    "import datetime"
   ]
  },
  {
   "cell_type": "code",
   "execution_count": 17,
   "id": "8421ec6e",
   "metadata": {},
   "outputs": [
    {
     "name": "stdout",
     "output_type": "stream",
     "text": [
      "Training data shape: (804, 18)\n",
      "Test data shape: (201, 18)\n",
      "Training target shape: (804,)\n",
      "Test target shape: (201,)\n",
      "\n",
      "Features: ['log_age', 'cement', 'age_category_longterm', 'coarse_aggregate', 'cement_quality_index', 'total_material', 'age_category_early', 'water_powder_ratio', 'total_cement', 'water', 'total_powder', 'scm_cement_ratio', 'age', 'sqrt_age', 'superplasticizer', 'water_cement_ratio', 'age_category_extended', 'cement_material_ratio']\n"
     ]
    }
   ],
   "source": [
    "# Load train/test data from pipeline\n",
    "train_dir = 'D:/PROJECTS/Concrete-compressive-strength/data/3_train_test_data/train'\n",
    "test_dir = 'D:/PROJECTS/Concrete-compressive-strength/data/3_train_test_data/test'\n",
    "\n",
    "# Load training data\n",
    "X_train = pd.read_csv(f'{train_dir}/X_train.csv')\n",
    "y_train = pd.read_csv(f'{train_dir}/y_train.csv').values.ravel()\n",
    "\n",
    "# Load test data\n",
    "X_test = pd.read_csv(f'{test_dir}/X_test.csv')\n",
    "y_test = pd.read_csv(f'{test_dir}/y_test.csv').values.ravel()\n",
    "\n",
    "print(f\"Training data shape: {X_train.shape}\")\n",
    "print(f\"Test data shape: {X_test.shape}\")\n",
    "print(f\"Training target shape: {y_train.shape}\")\n",
    "print(f\"Test target shape: {y_test.shape}\")\n",
    "print(f\"\\nFeatures: {list(X_train.columns)}\")"
   ]
  },
  {
   "cell_type": "code",
   "execution_count": 18,
   "id": "de06e42f",
   "metadata": {},
   "outputs": [],
   "source": [
    "# Define comprehensive evaluation function\n",
    "def evaluate_model(model, X_train, X_test, y_train, y_test, model_name):\n",
    "    \"\"\"\n",
    "    Comprehensive model evaluation function\n",
    "    \"\"\"\n",
    "    # Fit the model\n",
    "    model.fit(X_train, y_train)\n",
    "    \n",
    "    # Make predictions\n",
    "    y_pred_train = model.predict(X_train)\n",
    "    y_pred_test = model.predict(X_test)\n",
    "    \n",
    "    # Calculate metrics\n",
    "    metrics = {\n",
    "        'Model': model_name,\n",
    "        'Train_R2': r2_score(y_train, y_pred_train),\n",
    "        'Test_R2': r2_score(y_test, y_pred_test),\n",
    "        'Train_MSE': mean_squared_error(y_train, y_pred_train),\n",
    "        'Test_MSE': mean_squared_error(y_test, y_pred_test),\n",
    "        'Train_MAE': mean_absolute_error(y_train, y_pred_train),\n",
    "        'Test_MAE': mean_absolute_error(y_test, y_pred_test),\n",
    "        'Train_ExplainedVar': explained_variance_score(y_train, y_pred_train),\n",
    "        'Test_ExplainedVar': explained_variance_score(y_test, y_pred_test),\n",
    "        'RMSE_Train': np.sqrt(mean_squared_error(y_train, y_pred_train)),\n",
    "        'RMSE_Test': np.sqrt(mean_squared_error(y_test, y_pred_test))\n",
    "    }\n",
    "    \n",
    "    return metrics, model"
   ]
  },
  {
   "cell_type": "code",
   "execution_count": 19,
   "id": "0896934a",
   "metadata": {},
   "outputs": [
    {
     "name": "stdout",
     "output_type": "stream",
     "text": [
      "🚀 Starting Comprehensive Model Training...\n",
      "============================================================\n",
      "Training Linear Regression...\n",
      "✅ Linear Regression - Test R²: 0.8345, Test RMSE: 6.9539\n",
      "Training Decision Tree...\n",
      "✅ Decision Tree - Test R²: 0.8907, Test RMSE: 5.6502\n",
      "Training Random Forest...\n",
      "✅ Random Forest - Test R²: 0.9131, Test RMSE: 5.0384\n",
      "Training XGBoost...\n",
      "✅ XGBoost - Test R²: 0.9294, Test RMSE: 4.5427\n",
      "Training AdaBoost...\n",
      "✅ AdaBoost - Test R²: 0.8153, Test RMSE: 7.3453\n",
      "Training K-Nearest Neighbors...\n",
      "✅ K-Nearest Neighbors - Test R²: 0.8475, Test RMSE: 6.6754\n",
      "Training Extra Trees...\n",
      "✅ Extra Trees - Test R²: 0.9210, Test RMSE: 4.8044\n",
      "\n",
      "🔄 Training Polynomial Regression...\n",
      "✅ Polynomial Regression - Test R²: 0.8911, Test RMSE: 5.6397\n",
      "\n",
      "🎉 Model training completed! 8 models trained successfully.\n"
     ]
    }
   ],
   "source": [
    "# Initialize models dictionary\n",
    "models = {\n",
    "    'Linear Regression': LinearRegression(),\n",
    "    'Polynomial Regression': None,  # Will be handled separately\n",
    "    'Decision Tree': DecisionTreeRegressor(random_state=42),\n",
    "    'Random Forest': RandomForestRegressor(n_estimators=100, random_state=42),\n",
    "    'XGBoost': xgb.XGBRegressor(n_estimators=100, learning_rate=0.1, max_depth=5, random_state=42),\n",
    "    'AdaBoost': AdaBoostRegressor(n_estimators=100, random_state=42),\n",
    "    'K-Nearest Neighbors': KNeighborsRegressor(n_neighbors=5),\n",
    "    'Extra Trees': ExtraTreesRegressor(n_estimators=100, random_state=42)\n",
    "}\n",
    "\n",
    "# Store results\n",
    "results = []\n",
    "trained_models = {}\n",
    "\n",
    "print(\"🚀 Starting Comprehensive Model Training...\")\n",
    "print(\"=\" * 60)\n",
    "\n",
    "# Train each model\n",
    "for model_name, model in models.items():\n",
    "    if model_name == 'Polynomial Regression':\n",
    "        continue  # Handle separately\n",
    "    \n",
    "    print(f\"Training {model_name}...\")\n",
    "    \n",
    "    try:\n",
    "        metrics, trained_model = evaluate_model(model, X_train, X_test, y_train, y_test, model_name)\n",
    "        results.append(metrics)\n",
    "        trained_models[model_name] = trained_model\n",
    "        \n",
    "        print(f\"✅ {model_name} - Test R²: {metrics['Test_R2']:.4f}, Test RMSE: {metrics['RMSE_Test']:.4f}\")\n",
    "        \n",
    "    except Exception as e:\n",
    "        print(f\"❌ Error training {model_name}: {str(e)}\")\n",
    "        \n",
    "print(\"\\n🔄 Training Polynomial Regression...\")\n",
    "\n",
    "# Handle Polynomial Regression separately\n",
    "try:\n",
    "    poly_features = PolynomialFeatures(degree=2, include_bias=False)\n",
    "    X_train_poly = poly_features.fit_transform(X_train)\n",
    "    X_test_poly = poly_features.transform(X_test)\n",
    "    \n",
    "    poly_model = LinearRegression()\n",
    "    poly_model.fit(X_train_poly, y_train)\n",
    "    \n",
    "    y_pred_train_poly = poly_model.predict(X_train_poly)\n",
    "    y_pred_test_poly = poly_model.predict(X_test_poly)\n",
    "    \n",
    "    poly_metrics = {\n",
    "        'Model': 'Polynomial Regression',\n",
    "        'Train_R2': r2_score(y_train, y_pred_train_poly),\n",
    "        'Test_R2': r2_score(y_test, y_pred_test_poly),\n",
    "        'Train_MSE': mean_squared_error(y_train, y_pred_train_poly),\n",
    "        'Test_MSE': mean_squared_error(y_test, y_pred_test_poly),\n",
    "        'Train_MAE': mean_absolute_error(y_train, y_pred_train_poly),\n",
    "        'Test_MAE': mean_absolute_error(y_test, y_pred_test_poly),\n",
    "        'Train_ExplainedVar': explained_variance_score(y_train, y_pred_train_poly),\n",
    "        'Test_ExplainedVar': explained_variance_score(y_test, y_pred_test_poly),\n",
    "        'RMSE_Train': np.sqrt(mean_squared_error(y_train, y_pred_train_poly)),\n",
    "        'RMSE_Test': np.sqrt(mean_squared_error(y_test, y_pred_test_poly))\n",
    "    }\n",
    "    \n",
    "    results.append(poly_metrics)\n",
    "    trained_models['Polynomial Regression'] = (poly_model, poly_features)\n",
    "    \n",
    "    print(f\"✅ Polynomial Regression - Test R²: {poly_metrics['Test_R2']:.4f}, Test RMSE: {poly_metrics['RMSE_Test']:.4f}\")\n",
    "    \n",
    "except Exception as e:\n",
    "    print(f\"❌ Error training Polynomial Regression: {str(e)}\")\n",
    "\n",
    "print(f\"\\n🎉 Model training completed! {len(results)} models trained successfully.\")"
   ]
  },
  {
   "cell_type": "code",
   "execution_count": 20,
   "id": "dde52dd7",
   "metadata": {},
   "outputs": [
    {
     "name": "stdout",
     "output_type": "stream",
     "text": [
      "📊 MODEL PERFORMANCE COMPARISON\n",
      "================================================================================\n",
      "Rank Model                Test R²    Test RMSE    Test MAE  \n",
      "--------------------------------------------------------------------------------\n",
      "1    XGBoost              0.9294     4.54         3.18      \n",
      "2    Extra Trees          0.9210     4.80         3.09      \n",
      "3    Random Forest        0.9131     5.04         3.52      \n",
      "4    Polynomial Regression 0.8911     5.64         4.13      \n",
      "5    Decision Tree        0.8907     5.65         3.54      \n",
      "6    K-Nearest Neighbors  0.8475     6.68         4.82      \n",
      "7    Linear Regression    0.8345     6.95         5.34      \n",
      "8    AdaBoost             0.8153     7.35         5.92      \n",
      "\n",
      "🏆 Best performing model: XGBoost\n",
      "Best Test R² Score: 0.9294\n",
      "\n",
      "📋 DETAILED RESULTS:\n",
      "                   Model  Train_R2  Test_R2  Train_MSE  Test_MSE  Train_MAE  \\\n",
      "0                XGBoost    0.9842   0.9294     4.0391   20.6363     1.3574   \n",
      "1            Extra Trees    0.9960   0.9210     1.0124   23.0825     0.1424   \n",
      "2          Random Forest    0.9846   0.9131     3.9443   25.3850     1.3098   \n",
      "3  Polynomial Regression    0.9228   0.8911    19.7158   31.8063     3.3143   \n",
      "4          Decision Tree    0.9960   0.8907     1.0124   31.9244     0.1424   \n",
      "5    K-Nearest Neighbors    0.8978   0.8475    26.1010   44.5605     3.7430   \n",
      "6      Linear Regression    0.8373   0.8345    41.5331   48.3566     5.0001   \n",
      "7               AdaBoost    0.8542   0.8153    37.2353   53.9537     5.0606   \n",
      "\n",
      "   Test_MAE  Train_ExplainedVar  Test_ExplainedVar  RMSE_Train  RMSE_Test  \n",
      "0    3.1807              0.9842             0.9298      2.0097     4.5427  \n",
      "1    3.0926              0.9960             0.9215      1.0062     4.8044  \n",
      "2    3.5151              0.9846             0.9139      1.9860     5.0384  \n",
      "3    4.1303              0.9228             0.8913      4.4402     5.6397  \n",
      "4    3.5377              0.9960             0.8910      1.0062     5.6502  \n",
      "5    4.8249              0.8978             0.8501      5.1089     6.6754  \n",
      "6    5.3441              0.8373             0.8399      6.4446     6.9539  \n",
      "7    5.9236              0.8578             0.8156      6.1021     7.3453  \n"
     ]
    }
   ],
   "source": [
    "# Create results DataFrame\n",
    "results_df = pd.DataFrame(results)\n",
    "\n",
    "# Sort by Test R² score (descending)\n",
    "results_df = results_df.sort_values('Test_R2', ascending=False).reset_index(drop=True)\n",
    "\n",
    "print(\"📊 MODEL PERFORMANCE COMPARISON\")\n",
    "print(\"=\" * 80)\n",
    "print(f\"{'Rank':<4} {'Model':<20} {'Test R²':<10} {'Test RMSE':<12} {'Test MAE':<10}\")\n",
    "print(\"-\" * 80)\n",
    "\n",
    "for idx, row in results_df.iterrows():\n",
    "    print(f\"{idx+1:<4} {row['Model']:<20} {row['Test_R2']:<10.4f} {row['RMSE_Test']:<12.2f} {row['Test_MAE']:<10.2f}\")\n",
    "\n",
    "print(\"\\n🏆 Best performing model:\", results_df.iloc[0]['Model'])\n",
    "print(f\"Best Test R² Score: {results_df.iloc[0]['Test_R2']:.4f}\")\n",
    "\n",
    "# Display full results\n",
    "print(\"\\n📋 DETAILED RESULTS:\")\n",
    "print(results_df.round(4))"
   ]
  }
 ],
 "metadata": {
  "kaggle": {
   "accelerator": "none",
   "dataSources": [
    {
     "datasetId": 2330,
     "sourceId": 3928,
     "sourceType": "datasetVersion"
    }
   ],
   "dockerImageVersionId": 30839,
   "isGpuEnabled": false,
   "isInternetEnabled": true,
   "language": "python",
   "sourceType": "notebook"
  },
  "kernelspec": {
   "display_name": "vir-env",
   "language": "python",
   "name": "python3"
  },
  "language_info": {
   "codemirror_mode": {
    "name": "ipython",
    "version": 3
   },
   "file_extension": ".py",
   "mimetype": "text/x-python",
   "name": "python",
   "nbconvert_exporter": "python",
   "pygments_lexer": "ipython3",
   "version": "3.13.3"
  },
  "papermill": {
   "default_parameters": {},
   "duration": 7.804535,
   "end_time": "2025-02-08T06:28:50.168070",
   "environment_variables": {},
   "exception": null,
   "input_path": "__notebook__.ipynb",
   "output_path": "__notebook__.ipynb",
   "parameters": {},
   "start_time": "2025-02-08T06:28:42.363535",
   "version": "2.6.0"
  }
 },
 "nbformat": 4,
 "nbformat_minor": 5
}
